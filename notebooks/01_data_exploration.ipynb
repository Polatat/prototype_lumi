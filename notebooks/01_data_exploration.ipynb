{
 "cells": [
  {
   "cell_type": "code",
   "execution_count": 1,
   "id": "5a9f7c4b",
   "metadata": {},
   "outputs": [
    {
     "name": "stdout",
     "output_type": "stream",
     "text": [
      "    gene   variant\n",
      "0  BRCA1  c.123A>G\n",
      "1   TP53   p.R248Q\n"
     ]
    }
   ],
   "source": [
    "import pandas as pd\n",
    "\n",
    "dummy_data = pd.DataFrame({'gene': ['BRCA1', 'TP53'], 'variant': ['c.123A>G', 'p.R248Q']})\n",
    "\n",
    "print(dummy_data\n",
    ")"
   ]
  }
 ],
 "metadata": {
  "kernelspec": {
   "display_name": ".venv",
   "language": "python",
   "name": "python3"
  },
  "language_info": {
   "codemirror_mode": {
    "name": "ipython",
    "version": 3
   },
   "file_extension": ".py",
   "mimetype": "text/x-python",
   "name": "python",
   "nbconvert_exporter": "python",
   "pygments_lexer": "ipython3",
   "version": "3.9.6"
  }
 },
 "nbformat": 4,
 "nbformat_minor": 5
}
